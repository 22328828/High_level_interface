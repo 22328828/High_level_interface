{
 "cells": [
  {
   "cell_type": "code",
   "execution_count": null,
   "id": "fffb3b30-fe8f-408e-bf9f-537729920d35",
   "metadata": {},
   "outputs": [],
   "source": []
  }
 ],
 "metadata": {
  "kernelspec": {
   "display_name": "",
   "name": ""
  },
  "language_info": {
   "name": ""
  }
 },
 "nbformat": 4,
 "nbformat_minor": 5
}
