import seaborn as sns
import matplotlib.pyplot as plt
import pandas as pd
df = pd.read_csv('C:/Users/TEMP.NDOCY.000/Desktop/School Work/Technical Programming/football.csv.csv')
#df['Wins'] = pd.to_numeric(df['Wins'], errors='coerce')

#df['Losses'] = pd.to_numeric(df['Losses'], errors='coerce')
sns.set_theme()
sns.set_style("whitegrid")
sns.lineplot(x="Wins",y="Losses",data = df)
plt.show()

sns.set_style("darkgrid")
sns.lineplot(x="Wins",y ="Losses",data = df)
plt.show()

sns.set_style("dark")
sns.distplot(df['Wins'])
sns.set_context("talk")
sns.lineplot(x="Wins",y="Losses",data=df)
plt.show()

sns.kdeplot(data = df['Losses'],shade = True)
sns.set_style("ticks")
sns.lineplot(x ="Wins",y ="Losses",data = df)
plt.show()

sns.set_style("white")
sns.lineplot(x= "Wins" ,y = "Losses",data = df)
sns.rugplot(df['Losses'])
plt.show()

sns.set_style("darkgrid")
sns.boxplot(x ="Wins",y ="Losses",data = df)
plt.show()

sns.set_style("white")
sns.violinplot(x = "Wins",y = "Losses",data = df)
plt.show()

sns.set_style("white")
sns.swarmplot(x ="Wins",y = "Losses",data = df)
plt.show()
